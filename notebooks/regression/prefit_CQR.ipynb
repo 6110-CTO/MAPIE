{
  "cells": [
    {
      "cell_type": "code",
      "execution_count": 10,
      "metadata": {
        "id": "AyjfITskyO-k"
      },
      "outputs": [],
      "source": [
        "from lightgbm import LGBMRegressor\n",
        "import matplotlib.pyplot as plt\n",
        "from matplotlib.offsetbox import (TextArea, AnnotationBbox)\n",
        "from matplotlib.ticker import FormatStrFormatter\n",
        "import numpy as np\n",
        "import pandas as pd\n",
        "from sklearn.model_selection import RandomizedSearchCV, train_test_split, KFold\n",
        "from sklearn.datasets import fetch_california_housing\n",
        "from scipy.stats import randint, uniform\n"
      ]
    },
    {
      "cell_type": "code",
      "execution_count": 11,
      "metadata": {
        "colab": {
          "base_uri": "https://localhost:8080/"
        },
        "id": "3NHXiRcByUXB",
        "outputId": "78a81275-6c22-4617-caa0-ae233a8f6c7e"
      },
      "outputs": [],
      "source": [
        "install_mapie = False\n",
        "if install_mapie is True:\n",
        "    !pip install git+https://github.com/scikit-learn-contrib/MAPIE.git@add_prefit_cqr"
      ]
    },
    {
      "cell_type": "code",
      "execution_count": 3,
      "metadata": {
        "id": "It2WS2JLyR6F"
      },
      "outputs": [],
      "source": [
        "from mapie.metrics import (\n",
        "    regression_coverage_score,\n",
        "    regression_mean_width_score\n",
        "    )\n",
        "from mapie.quantile_regression import MapieQuantileRegressor"
      ]
    },
    {
      "cell_type": "code",
      "execution_count": 4,
      "metadata": {
        "id": "vAx4udWgzgNa"
      },
      "outputs": [],
      "source": [
        "data = fetch_california_housing(as_frame=True)\n",
        "X = pd.DataFrame(data=data.data, columns=data.feature_names)\n",
        "y = pd.DataFrame(data=data.target)*100"
      ]
    },
    {
      "cell_type": "code",
      "execution_count": 5,
      "metadata": {
        "id": "EjWL4IdLz5wL"
      },
      "outputs": [],
      "source": [
        "y = y['MedHouseVal']\n",
        "X_train, X_test, y_train, y_test = train_test_split(\n",
        "    X,\n",
        "    y,\n",
        ")\n",
        "X_train, X_calib, y_train, y_calib = train_test_split(\n",
        "    X_train,\n",
        "    y_train,\n",
        ")"
      ]
    },
    {
      "cell_type": "code",
      "execution_count": 6,
      "metadata": {
        "id": "pHPFpYhYzj9c"
      },
      "outputs": [],
      "source": [
        "list_estimators = []\n",
        "estimator_low = LGBMRegressor(\n",
        "    objective='quantile',\n",
        "    alpha=0.05,\n",
        ")\n",
        "estimator_low.fit(X_train, y_train)\n",
        "list_estimators.append(estimator_low)\n",
        "\n",
        "estimator_high = LGBMRegressor(\n",
        "    objective='quantile',\n",
        "    alpha=0.95,\n",
        ")\n",
        "estimator_high.fit(X_train, y_train)\n",
        "list_estimators.append(estimator_high)\n",
        "\n",
        "\n",
        "estimator = LGBMRegressor(\n",
        "    objective='quantile',\n",
        "    alpha=0.5,\n",
        ")\n",
        "estimator.fit(X_train, y_train)\n",
        "list_estimators.append(estimator)\n"
      ]
    },
    {
      "cell_type": "code",
      "execution_count": 7,
      "metadata": {
        "colab": {
          "base_uri": "https://localhost:8080/",
          "height": 427
        },
        "id": "qMR7PcQdzw1d",
        "outputId": "e50b458b-ba49-45d2-9dd7-b095658312b5"
      },
      "outputs": [
        {
          "name": "stderr",
          "output_type": "stream",
          "text": [
            "/Users/llacombe/CODE/MAPIE/mapie/quantile_regression.py:462: UserWarning: WARNING: The alpha that is set needs to be the same as the alpha of your prefitted model in the following order [alpha/2, 1 - alpha/2, 0.5]\n",
            "  warnings.warn(\n",
            "/Users/llacombe/CODE/MAPIE/mapie/utils.py:466: UserWarning: WARNING: The initial prediction values from the quantile method\n",
            "present issues as the upper quantile values might be higher than the\n",
            "lower quantile values.\n",
            "  warnings.warn(\n",
            "/Users/llacombe/CODE/MAPIE/mapie/utils.py:479: UserWarning: WARNING: Following the additional value added to have conformal predictions, the upper and lower bound present issues as one might be higher or lower than the other.\n",
            "  warnings.warn(\n"
          ]
        }
      ],
      "source": [
        "mapie = MapieQuantileRegressor(list_estimators, cv=\"prefit\")\n",
        "mapie.fit(X_calib, y_calib)\n",
        "prefit_predict = mapie.predict(X_test)"
      ]
    },
    {
      "cell_type": "code",
      "execution_count": 8,
      "metadata": {
        "id": "v0iCmVf10xv0"
      },
      "outputs": [],
      "source": [
        "mapie = MapieQuantileRegressor(estimator)\n",
        "mapie.fit(X_train, y_train, X_calib=X_calib, y_calib=y_calib)\n",
        "split_predict = mapie.predict(X_test)"
      ]
    },
    {
      "cell_type": "code",
      "execution_count": 9,
      "metadata": {},
      "outputs": [],
      "source": [
        "for i in range(len(prefit_predict)):\n",
        "    assert (prefit_predict[i]==split_predict[i]).all()"
      ]
    },
    {
      "cell_type": "code",
      "execution_count": null,
      "metadata": {},
      "outputs": [],
      "source": []
    }
  ],
  "metadata": {
    "colab": {
      "collapsed_sections": [],
      "name": "Bienvenue dans Colaboratory",
      "provenance": [],
      "toc_visible": true
    },
    "kernelspec": {
      "display_name": "Python 3.10.4 ('mapie-dev')",
      "language": "python",
      "name": "python3"
    },
    "language_info": {
      "codemirror_mode": {
        "name": "ipython",
        "version": 3
      },
      "file_extension": ".py",
      "mimetype": "text/x-python",
      "name": "python",
      "nbconvert_exporter": "python",
      "pygments_lexer": "ipython3",
      "version": "3.10.4"
    },
    "vscode": {
      "interpreter": {
        "hash": "82e719626d3d099733a6ccd500fa89ccf91cff4cc1efa1563e3a615b3872c3ba"
      }
    }
  },
  "nbformat": 4,
  "nbformat_minor": 0
}
