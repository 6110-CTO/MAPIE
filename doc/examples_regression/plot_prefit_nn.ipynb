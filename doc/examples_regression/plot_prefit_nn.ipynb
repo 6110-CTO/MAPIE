{
  "cells": [
    {
      "cell_type": "code",
      "execution_count": null,
      "metadata": {
        "collapsed": false
      },
      "outputs": [],
      "source": [
        "%matplotlib inline"
      ]
    },
    {
      "cell_type": "markdown",
      "metadata": {},
      "source": [
        "\n# Example use of the prefit parameter with neural networks\n\n:class:`mapie.regression.MapieRegressor` is used to calibrate\nuncertainties for large models for which the cost of cross-validation\nis too high. Typically, neural networks rely on a single validation set.\n\nIn this example, we first fit a neural network on the training set. We\nthen compute residuals on a validation set with the `cv=\"prefit\"` parameter.\nFinally, we evaluate the model with prediction intervals on a testing set.\n"
      ]
    },
    {
      "cell_type": "code",
      "execution_count": null,
      "metadata": {
        "collapsed": false
      },
      "outputs": [],
      "source": [
        "import scipy\nimport numpy as np\nfrom sklearn.model_selection import train_test_split\nfrom sklearn.neural_network import MLPRegressor\nfrom matplotlib import pyplot as plt\n\nfrom mapie.regression import MapieRegressor\nfrom mapie.metrics import regression_coverage_score\n\n\ndef f(x: np.ndarray) -> np.ndarray:\n    \"\"\"Polynomial function used to generate one-dimensional data.\"\"\"\n    return np.array(5*x + 5*x**4 - 9*x**2)\n\n\n# Generate data\nsigma = 0.1\nn_samples = 10000\nX = np.linspace(0, 1, n_samples)\ny = f(X) + np.random.normal(0, sigma, n_samples)\n\n# Train/validation/test split\nX_train_val, X_test, y_train_val, y_test = train_test_split(\n    X, y, test_size=1/10\n)\nX_train, X_val, y_train, y_val = train_test_split(\n    X_train_val, y_train_val, test_size=1/9\n)\n\n# Train model on training set\nmodel = MLPRegressor(activation=\"relu\", random_state=1)\nmodel.fit(X_train.reshape(-1, 1), y_train)\n\n# Calibrate uncertainties on validation set\nmapie = MapieRegressor(model, cv=\"prefit\")\nmapie.fit(X_val.reshape(-1, 1), y_val)\n\n# Evaluate prediction and coverage level on testing set\nalpha = 0.1\ny_pred, y_pis = mapie.predict(X_test.reshape(-1, 1), alpha=alpha)\ny_pred_low, y_pred_up = y_pis[:, 0, 0], y_pis[:, 1, 0]\ncoverage = regression_coverage_score(y_test, y_pred_low, y_pred_up)\n\n# Plot obtained prediction intervals on testing set\ntheoretical_semi_width = scipy.stats.norm.ppf(1 - alpha)*sigma\ny_test_theoretical = f(X_test)\norder = np.argsort(X_test)\n\nplt.scatter(X_test, y_test, color=\"red\", alpha=0.3, label=\"testing\", s=2)\nplt.plot(\n    X_test[order],\n    y_test_theoretical[order],\n    color=\"gray\",\n    label=\"True confidence intervals\"\n)\nplt.plot(\n    X_test[order],\n    y_test_theoretical[order] - theoretical_semi_width,\n    color=\"gray\",\n    ls=\"--\"\n)\nplt.plot(\n    X_test[order],\n    y_test_theoretical[order] + theoretical_semi_width,\n    color=\"gray\",\n    ls=\"--\"\n)\nplt.plot(X_test[order], y_pred[order], label=\"Prediction intervals\")\nplt.fill_between(X_test[order], y_pred_low[order], y_pred_up[order], alpha=0.2)\nplt.title(\n    f\"Target and effective coverages for \"\n    f\"alpha={alpha}: ({1 - alpha:.3f}, {coverage:.3f})\"\n)\nplt.xlabel(\"x\")\nplt.ylabel(\"y\")\nplt.legend()\nplt.show()"
      ]
    }
  ],
  "metadata": {
    "kernelspec": {
      "display_name": "Python 3",
      "language": "python",
      "name": "python3"
    },
    "language_info": {
      "codemirror_mode": {
        "name": "ipython",
        "version": 3
      },
      "file_extension": ".py",
      "mimetype": "text/x-python",
      "name": "python",
      "nbconvert_exporter": "python",
      "pygments_lexer": "ipython3",
      "version": "3.9.2"
    }
  },
  "nbformat": 4,
  "nbformat_minor": 0
}