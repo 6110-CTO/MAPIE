{
  "cells": [
    {
      "cell_type": "code",
      "execution_count": null,
      "metadata": {
        "collapsed": false
      },
      "outputs": [],
      "source": [
        "%matplotlib inline"
      ]
    },
    {
      "cell_type": "markdown",
      "metadata": {},
      "source": [
        "\n# Reproducing Example 7 from Sadinle et al. (2019)\n\nWe use :class:`mapie.classification.MapieClassifier` to reproduce\nExample 7 from Sadinle et al. (2019).\n\nWe consider a two-dimensional dataset with three labels. The distribution\nof the data is a bivariate normal with diagonal covariance matrices for\neach label.\nWe model the data with Gaussian Naive Bayes classifier\n:class:`sklearn.naive_bayes.GaussianNB` as a base model.\n\nPrediction sets are estimated by :class:`mapie.classification.MapieClassifier`\nfrom the distribution of the softmax scores of the true labels for three\nalpha values (0.2, 0.1, and 0.05) giving different class coverages.\n\nWhen the class coverage is not large enough, the prediction sets can be empty\nwhen the model is uncertain at the border between two labels. The null region\ndisappears for larger class coverages but ambiguous classification regions\narise with several labels included in the prediction sets.\n"
      ]
    },
    {
      "cell_type": "code",
      "execution_count": null,
      "metadata": {
        "collapsed": false
      },
      "outputs": [],
      "source": [
        "import numpy as np\nimport matplotlib.pyplot as plt\n\nfrom sklearn.naive_bayes import GaussianNB\n\nfrom mapie.classification import MapieClassifier\n\n\n# Create training set from multivariate normal distribution\ncenters = [(0, 3.5), (-2, 0), (2, 0)]\ncovs = [[[1, 0], [0, 1]], [[2, 0], [0, 2]], [[5, 0], [0, 1]]]\nx_min, x_max, y_min, y_max, step = -5, 7, -5, 7, 0.1\nn_samples = 500\nalphas = [0.2, 0.1, 0.05]\nX_train = np.zeros((3*n_samples, 2))\ni = 0\nfor center, cov in zip(centers, covs):\n    (\n        X_train[i*n_samples:(i+1)*n_samples, 0],\n        X_train[i*n_samples:(i+1)*n_samples, 1]\n    ) = np.random.multivariate_normal(center, cov, n_samples).T\n    i += 1\ny_train = np.stack([i for i in range(3) for _ in range(n_samples)]).ravel()\n\n# Create test from (x, y) coordinates\nX_test = np.stack([\n    [x, y]\n    for x in np.arange(x_min, x_max, step)\n    for y in np.arange(x_min, x_max, step)\n])\n\n\n# Apply MapieClassifier on the dataset to get prediction sets\nclf = GaussianNB().fit(X_train, y_train)\ny_pred = clf.predict(X_test)\ny_pred_proba = clf.predict_proba(X_test)\ny_pred_proba_max = np.max(y_pred_proba, axis=1)\nmapie = MapieClassifier(estimator=clf, cv=\"prefit\")\nmapie.fit(X_train, y_train)\ny_pred_mapie, y_pi_mapie = mapie.predict(X_test, alpha=alphas)\n\n# Plot the results\ntab10 = plt.cm.get_cmap('Purples', 4)\ncolors = ['#1f77b4', '#ff7f0e', '#2ca02c', '#d62728']\ny_pred_col = [colors[int(i)] for _, i in enumerate(y_pred_mapie)]\ny_train_col = [colors[int(i)] for _, i in enumerate(y_train)]\nfig, axs = plt.subplots(1, 4, figsize=(20, 4))\naxs[0].scatter(\n    X_test[:, 0],\n    X_test[:, 1],\n    color=y_pred_col,\n    marker='.',\n    s=10,\n    alpha=0.4\n)\naxs[0].scatter(\n    X_train[:, 0],\n    X_train[:, 1],\n    color=y_train_col,\n    marker='o',\n    s=10,\n    edgecolor='k'\n)\naxs[0].set_title(\"Predicted labels\")\nfor i, alpha in enumerate(alphas):\n    y_pi_sums = y_pi_mapie[:, :, i].sum(axis=1)\n    num_labels = axs[i+1].scatter(\n        X_test[:, 0],\n        X_test[:, 1],\n        c=y_pi_sums,\n        marker='.',\n        s=10,\n        alpha=1,\n        cmap=tab10,\n        vmin=0,\n        vmax=3\n    )\n    cbar = plt.colorbar(num_labels, ax=axs[i+1])\n    axs[i+1].set_title(f\"Number of labels for alpha={alpha}\")\nplt.show()"
      ]
    }
  ],
  "metadata": {
    "kernelspec": {
      "display_name": "Python 3",
      "language": "python",
      "name": "python3"
    },
    "language_info": {
      "codemirror_mode": {
        "name": "ipython",
        "version": 3
      },
      "file_extension": ".py",
      "mimetype": "text/x-python",
      "name": "python",
      "nbconvert_exporter": "python",
      "pygments_lexer": "ipython3",
      "version": "3.9.2"
    }
  },
  "nbformat": 4,
  "nbformat_minor": 0
}